{
 "cells": [
  {
   "cell_type": "code",
   "execution_count": 1,
   "metadata": {},
   "outputs": [],
   "source": [
    "name=\"mimikkyu\""
   ]
  },
  {
   "cell_type": "markdown",
   "metadata": {},
   "source": [
    "色付きARマーカー生成"
   ]
  },
  {
   "cell_type": "code",
   "execution_count": 10,
   "metadata": {},
   "outputs": [
    {
     "data": {
      "text/plain": [
       "True"
      ]
     },
     "execution_count": 10,
     "metadata": {},
     "output_type": "execute_result"
    }
   ],
   "source": [
    "import numpy as np \n",
    "import cv2\n",
    "\n",
    "aruco = cv2.aruco\n",
    "\n",
    "dictionary = aruco.getPredefinedDictionary(aruco.DICT_4X4_50)\n",
    "import cv2\n",
    "import numpy as np\n",
    "ar0=cv2.imread(\"ARUCO/ar00.png\")\n",
    "ar1=cv2.imread(\"ARUCO/ar01.png\")\n",
    "ar2=cv2.imread(\"ARUCO/ar02.png\")\n",
    "ar3=cv2.imread(\"ARUCO/ar03.png\")\n",
    "ar4=cv2.imread(\"ARUCO/ar04.png\")\n",
    "ar5=cv2.imread(\"ARUCO/ar05.png\")\n",
    "ar6=cv2.imread(\"ARUCO/ar06.png\")\n",
    "ar7=cv2.imread(\"ARUCO/ar07.png\")\n",
    "\n",
    "\n",
    "mat = np.array([[1, 0, 30], [0, 1, 30]], dtype=np.float32) #変換行列生成\n",
    "img0=cv2.warpAffine(ar0,mat,(210,210),borderValue=(255,255, 255)) \n",
    "img1=cv2.warpAffine(ar1,mat,(210,210),borderValue=(255, 255, 255)) \n",
    "img2=cv2.warpAffine(ar2,mat,(210,210),borderValue=(255, 255, 255)) \n",
    "img3=cv2.warpAffine(ar3,mat,(210,210),borderValue=(255, 255,255)) \n",
    "img4=cv2.warpAffine(ar4,mat,(210,210),borderValue=(255, 255, 255)) \n",
    "img5=cv2.warpAffine(ar5,mat,(210,210),borderValue=(255,255, 255)) \n",
    "img6=cv2.warpAffine(ar6,mat,(210,210),borderValue=(255, 255,255)) \n",
    "img7=cv2.warpAffine(ar7,mat,(210,210),borderValue=(255, 255, 255)) \n",
    "\n",
    "height,width,color=img0.shape\n",
    "\n",
    "for y in range(0,height):\n",
    "    for x in range(0,width):\n",
    "        if (img0[y][x]==0).all():\n",
    "            img0[y][x]=(0,255,0)\n",
    "           \n",
    "cv2.imwrite( \"./ARUCO/green_ar00.png\", img0) \n",
    "\n",
    "for y in range(0,height):\n",
    "    for x in range(0,width):\n",
    "        if (img1[y][x]==0).all():\n",
    "            img1[y][x]=(0,255,0)\n",
    "\n",
    "cv2.imwrite( \"./ARUCO/green_ar01.png\", img1) \n",
    "\n",
    "for y in range(0,height):\n",
    "    for x in range(0,width):\n",
    "        if (img2[y][x]==0).all():\n",
    "            img2[y][x]=(0,255,0)\n",
    "\n",
    "cv2.imwrite( \"./ARUCO/green_ar02.png\", img2) \n",
    "\n",
    "for y in range(0,height):\n",
    "    for x in range(0,width):\n",
    "        if (img3[y][x]==0).all():\n",
    "            img3[y][x]=(0,255,0)\n",
    "\n",
    "cv2.imwrite( \"./ARUCO/green_ar03.png\", img3) \n",
    "\n",
    "for y in range(0,height):\n",
    "    for x in range(0,width):\n",
    "        if (img4[y][x]==0).all():\n",
    "            img4[y][x]=(0,255,0)\n",
    "\n",
    "cv2.imwrite( \"./ARUCO/green_ar04.png\", img4) \n",
    "\n",
    "for y in range(0,height):\n",
    "    for x in range(0,width):\n",
    "        if (img5[y][x]==0).all():\n",
    "            img5[y][x]=(0,255,0)\n",
    "\n",
    "cv2.imwrite( \"./ARUCO/green_ar05.png\", img5) \n",
    "\n",
    "for y in range(0,height):\n",
    "    for x in range(0,width):\n",
    "        if (img6[y][x]==0).all():\n",
    "            img6[y][x]=(0,255,0)\n",
    "\n",
    "cv2.imwrite( \"./ARUCO/green_ar06.png\", img6) \n",
    "\n",
    "for y in range(0,height):\n",
    "    for x in range(0,width):\n",
    "        if (img7[y][x]==0).all():\n",
    "            img7[y][x]=(0,255,0)\n",
    "\n",
    "cv2.imwrite( \"./ARUCO/green_ar07.png\", img7) \n",
    "\n"
   ]
  },
  {
   "cell_type": "markdown",
   "metadata": {},
   "source": [
    "クロマキーAR生成"
   ]
  },
  {
   "cell_type": "code",
   "execution_count": 11,
   "metadata": {},
   "outputs": [
    {
     "data": {
      "text/plain": [
       "True"
      ]
     },
     "execution_count": 11,
     "metadata": {},
     "output_type": "execute_result"
    }
   ],
   "source": [
    "ar0=cv2.imread(\"ARUCO/green_ar00.png\")\n",
    "ar1=cv2.imread(\"ARUCO/green_ar01.png\")\n",
    "ar2=cv2.imread(\"ARUCO/green_ar02.png\")\n",
    "ar3=cv2.imread(\"ARUCO/green_ar03.png\")\n",
    "ar4=cv2.imread(\"ARUCO/green_ar04.png\")\n",
    "ar5=cv2.imread(\"ARUCO/green_ar05.png\")\n",
    "ar6=cv2.imread(\"ARUCO/green_ar06.png\")\n",
    "ar7=cv2.imread(\"ARUCO/green_ar07.png\")\n",
    "\n",
    "\n",
    "\n",
    "height,width,color=ar0.shape\n",
    "for y in range(0,height):\n",
    "    for x in range(0,width):\n",
    "        if (ar0[y][x]==255).all():\n",
    "            ar0[y][x]=(0,0,0)\n",
    "cv2.imwrite( \"./ARUCO/black_green_ar00.png\", ar0) \n",
    "\n",
    "for y in range(0,height):\n",
    "    for x in range(0,width):\n",
    "        if (ar1[y][x]==255).all():\n",
    "            ar1[y][x]=(0,0,0)\n",
    "cv2.imwrite( \"./ARUCO/black_green_ar01.png\", ar1) \n",
    "\n",
    "for y in range(0,height):\n",
    "    for x in range(0,width):\n",
    "        if (ar2[y][x]==255).all():\n",
    "            ar2[y][x]=(0,0,0)\n",
    "cv2.imwrite( \"./ARUCO/black_green_ar02.png\", ar2) \n",
    "\n",
    "for y in range(0,height):\n",
    "    for x in range(0,width):\n",
    "        if (ar3[y][x]==255).all():\n",
    "            ar3[y][x]=(0,0,0)\n",
    "cv2.imwrite( \"./ARUCO/black_green_ar03.png\", ar3) \n",
    "\n",
    "for y in range(0,height):\n",
    "    for x in range(0,width):\n",
    "        if (ar4[y][x]==255).all():\n",
    "            ar4[y][x]=(0,0,0)\n",
    "cv2.imwrite( \"./ARUCO/black_green_ar04.png\", ar4) \n",
    "\n",
    "for y in range(0,height):\n",
    "    for x in range(0,width):\n",
    "        if (ar5[y][x]==255).all():\n",
    "            ar5[y][x]=(0,0,0)\n",
    "cv2.imwrite( \"./ARUCO/black_green_ar05.png\", ar5) \n",
    "\n",
    "for y in range(0,height):\n",
    "    for x in range(0,width):\n",
    "        if (ar6[y][x]==255).all():\n",
    "            ar6[y][x]=(0,0,0)\n",
    "cv2.imwrite( \"./ARUCO/black_green_ar06.png\", ar6) \n",
    "\n",
    "for y in range(0,height):\n",
    "    for x in range(0,width):\n",
    "        if (ar7[y][x]==255).all():\n",
    "            ar7[y][x]=(0,0,0)\n",
    "cv2.imwrite( \"./ARUCO/black_green_ar07.png\", ar7) \n",
    "\n",
    "\n"
   ]
  },
  {
   "cell_type": "markdown",
   "metadata": {},
   "source": [
    "クロマキープロト"
   ]
  },
  {
   "cell_type": "code",
   "execution_count": 71,
   "metadata": {},
   "outputs": [],
   "source": [
    "import cv2\n",
    "img = cv2.imread(\"./img/blueAR_\"+str(name)+\".png\", cv2.IMREAD_COLOR)\n",
    "\n",
    "blank = np.zeros((h, w, 3))\n",
    "blank += 255 #←全ゼロデータに255を足してホワイトにする\n",
    " \n",
    "\n",
    "# 「ほぼ青」の色範囲\n",
    "lower = np.array([130,0,0]) \n",
    "upper = np.array([255,130,130])\n",
    "#マスク作成\n",
    "img_mask = cv2.inRange(img, lower, upper)     # 「ほぼ青」のみの抽出マスク\n",
    "img_mask = cv2.bitwise_not(img_mask) # 反転＝「ほぼ白」以外の抽出マスク\n",
    "# 「ほぼ青」以外を抽出→「ほぼ青」を黒に\n",
    "img = cv2.bitwise_or(img, img, mask=img_mask)\n",
    "\n",
    "cv2.imshow('img', img)\n",
    "cv2.waitKey(0)\n",
    "cv2.destroyAllWindows()"
   ]
  },
  {
   "cell_type": "code",
   "execution_count": null,
   "metadata": {},
   "outputs": [],
   "source": []
  },
  {
   "cell_type": "markdown",
   "metadata": {},
   "source": [
    "単色画像生成"
   ]
  },
  {
   "cell_type": "code",
   "execution_count": 81,
   "metadata": {},
   "outputs": [],
   "source": [
    "import cv2\n",
    "import numpy as np\n",
    "img = cv2.imread(\"./img/test.jpg\", cv2.IMREAD_COLOR)\n",
    "h,w,c=img.shape\n",
    "#ブランク画像\n",
    "\n",
    "blank = np.zeros((h, w, 3))\n",
    "blank += [255,0,0][::-1] #RGBで青指定\n",
    " \n",
    "cv2.imwrite('img/blank.png',blank)\n",
    "img=img-blank\n",
    "cv2.imshow('img', img)\n",
    "cv2.waitKey(0)\n",
    "cv2.destroyAllWindows()"
   ]
  },
  {
   "cell_type": "code",
   "execution_count": null,
   "metadata": {},
   "outputs": [],
   "source": []
  },
  {
   "cell_type": "code",
   "execution_count": null,
   "metadata": {},
   "outputs": [],
   "source": []
  },
  {
   "cell_type": "code",
   "execution_count": null,
   "metadata": {},
   "outputs": [],
   "source": []
  },
  {
   "cell_type": "code",
   "execution_count": 8,
   "metadata": {},
   "outputs": [
    {
     "data": {
      "text/plain": [
       "True"
      ]
     },
     "execution_count": 8,
     "metadata": {},
     "output_type": "execute_result"
    }
   ],
   "source": []
  },
  {
   "cell_type": "code",
   "execution_count": null,
   "metadata": {},
   "outputs": [],
   "source": []
  }
 ],
 "metadata": {
  "kernelspec": {
   "display_name": "Environment (conda_opencv)",
   "language": "python",
   "name": "conda_opencv"
  },
  "language_info": {
   "codemirror_mode": {
    "name": "ipython",
    "version": 3
   },
   "file_extension": ".py",
   "mimetype": "text/x-python",
   "name": "python",
   "nbconvert_exporter": "python",
   "pygments_lexer": "ipython3",
   "version": "3.6.10"
  }
 },
 "nbformat": 4,
 "nbformat_minor": 4
}
