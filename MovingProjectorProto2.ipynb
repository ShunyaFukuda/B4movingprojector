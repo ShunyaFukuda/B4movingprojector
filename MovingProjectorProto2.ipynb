{
 "cells": [
  {
   "cell_type": "markdown",
   "metadata": {},
   "source": [
    "対象設定"
   ]
  },
  {
   "cell_type": "code",
   "execution_count": 1,
   "metadata": {},
   "outputs": [],
   "source": [
    "name=\"mimikkyu\""
   ]
  },
  {
   "cell_type": "markdown",
   "metadata": {},
   "source": [
    "デフォルトマーカー位置設定"
   ]
  },
  {
   "cell_type": "code",
   "execution_count": 2,
   "metadata": {},
   "outputs": [],
   "source": [
    "import numpy as np \n",
    "import cv2\n",
    "import glob\n",
    "import os\n",
    "\n",
    "aruco = cv2.aruco\n",
    "dictionary = aruco.getPredefinedDictionary(aruco.DICT_4X4_50)\n",
    "dst=cv2.imread( \"./img/\"+\"/md_\"+str(name)+\".png\") \n",
    "def_corners, def_ids, rejectedImgPoints = aruco.detectMarkers(dst, dictionary)\n",
    "\n",
    "count=[0,1,2,3]\n",
    "count2=[0,1,2,3,4,5,6,7]\n",
    "\n",
    "def_pts=np.zeros((8,4,2),dtype = np.float32)\n",
    "\n",
    "for i in count2:\n",
    "    for j in count2:\n",
    "        if j ==def_ids[i][0]:\n",
    "            for k in count:\n",
    "                def_pts[j][k][0]=def_corners[i][0][k][0]\n",
    "                def_pts[j][k][1]=def_corners[i][0][k][1]\n",
    " \n",
    "        \n",
    "height, width, color = dst.shape\n",
    "\n",
    "\n",
    "def_bord_pts=np.zeros((16,2),dtype = np.float32)\n",
    "def_pro_pts=np.zeros((16,2),dtype = np.float32)\n",
    "\n",
    "count=[0,1,2,3]\n",
    "def_pts\n",
    "for i in count:\n",
    "    for j in count:\n",
    "        def_bord_pts[4*i+j][0]=def_pts[i][j][0]\n",
    "        def_bord_pts[4*i+j][1]=def_pts[i][j][1]    \n",
    "\n",
    "for i in count:\n",
    "    for j in count:\n",
    "        def_pro_pts[4*i+j][0]=def_pts[4+i][j][0]\n",
    "        def_pro_pts[4*i+j][1]=def_pts[4+i][j][1]\n",
    "\n",
    "\n",
    "#print(\"def_pts\")\n",
    "#print(def_pts)\n",
    "#print(\"def_pro_pts\")\n",
    "#print(def_pro_pts)\n",
    "#print(\"def_bord_pts\")\n",
    "#print(def_bord_pts)"
   ]
  },
  {
   "cell_type": "markdown",
   "metadata": {},
   "source": [
    "貼り付け関数"
   ]
  },
  {
   "cell_type": "code",
   "execution_count": 3,
   "metadata": {},
   "outputs": [],
   "source": [
    "def cvpaste(img, imgback, x, y, angle, scale):  \n",
    "    # x and y are the distance from the center of the background image \n",
    "\n",
    "    r = img.shape[0]\n",
    "    c = img.shape[1]\n",
    "    rb = imgback.shape[0]\n",
    "    cb = imgback.shape[1]\n",
    "    hrb=round(rb/2)\n",
    "    hcb=round(cb/2)\n",
    "    hr=round(r/2)\n",
    "    hc=round(c/2)\n",
    "\n",
    "    # Copy the forward image and move to the center of the background image\n",
    "    imgrot = np.zeros((rb,cb,3),np.uint8)\n",
    "    imgrot[hrb-hr:hrb+hr,hcb-hc:hcb+hc,:] = img[:hr*2,:hc*2,:]\n",
    "\n",
    "    # Rotation and scaling\n",
    "    M = cv2.getRotationMatrix2D((hcb,hrb),angle,scale)\n",
    "    imgrot = cv2.warpAffine(imgrot,M,(cb,rb))\n",
    "    # Translation\n",
    "    M = np.float32([[1,0,x],[0,1,y]])\n",
    "    imgrot = cv2.warpAffine(imgrot,M,(cb,rb))\n",
    "\n",
    "    # Making mask\n",
    "    imggray = cv2.cvtColor(imgrot,cv2.COLOR_BGR2GRAY)\n",
    "    ret, mask = cv2.threshold(imggray, 10, 255, cv2.THRESH_BINARY)\n",
    "    mask_inv = cv2.bitwise_not(mask)\n",
    "\n",
    "    # Now black-out the area of the forward image in the background image\n",
    "    img1_bg = cv2.bitwise_and(imgback,imgback,mask = mask_inv)\n",
    "\n",
    "    # Take only region of the forward image.\n",
    "    img2_fg = cv2.bitwise_and(imgrot,imgrot,mask = mask)\n",
    "\n",
    "    # Paste the forward image on the background image\n",
    "    imgpaste = cv2.add(img1_bg,img2_fg)\n",
    "\n",
    "    return imgpaste\n"
   ]
  },
  {
   "cell_type": "markdown",
   "metadata": {},
   "source": [
    "メイン関数"
   ]
  },
  {
   "cell_type": "code",
   "execution_count": 4,
   "metadata": {},
   "outputs": [],
   "source": [
    "import cv2\n",
    "import numpy as np\n",
    "import time\n",
    "\n",
    "aruco = cv2.aruco\n",
    "dictionary = aruco.getPredefinedDictionary(aruco.DICT_4X4_50)\n",
    "img=cv2.imread(\"img/\"+str(name)+\".jpg\")\n",
    "imgback = cv2.imread(\"img/\"+str(name)+\".jpg\")\n",
    "\n",
    "height,width,color=imgback.shape\n",
    "\n",
    "angle=0\n",
    "scale=0.2\n",
    "\n",
    "ar4=cv2.imread(\"ARUCO/blue_ar04.png\")\n",
    "ar5=cv2.imread(\"ARUCO/blue_ar05.png\")\n",
    "ar6=cv2.imread(\"ARUCO/blue_ar06.png\")\n",
    "ar7=cv2.imread(\"ARUCO/blue_ar07.png\")\n",
    "\n",
    "cap = cv2.VideoCapture(1)\n",
    "\n",
    "rt_pts=np.zeros((8,4,2),dtype = np.float32)\n",
    "rt_bord_pts=np.zeros((16,2),dtype = np.float32)\n",
    "rt_pro_pts=np.zeros((16,2),dtype = np.float32)\n",
    "\n",
    "count=[0,1,2,3]\n",
    "count2=[0,1,2,3,4,5,6,7]\n",
    "count3=[4,5,6,7]\n",
    "\n",
    "mat1, mask1 = cv2.findHomography(def_pro_pts, def_pro_pts, cv2.RANSAC,1)#初期設定（変更なし）\n",
    "mat2, mask2 = cv2.findHomography(def_bord_pts, def_bord_pts, cv2.RANSAC,1)\n",
    "frag=1#待機時間管理\n",
    "\n",
    "while(True):\n",
    "\n",
    "    t0 = time.time() #時間計測開始   \n",
    "    # Capture frame-by-frame\n",
    "    ret, frame = cap.read()\n",
    "\n",
    "    # Display the resulting frame\n",
    "    cv2.imshow('frame', frame)\n",
    "    \n",
    "    frame2=cv2.warpPerspective(img, mat2, (3*width, 3*height))\n",
    "    frame3=cv2.warpPerspective(frame2, mat1, (width, height))#カメラから見たプロジェクタ上の座標→カメラから見たボード上の座標\n",
    "    \n",
    "\n",
    "    imgpaste = cvpaste(ar4, frame3, 0, -90, angle, scale)#AR貼り付け\n",
    "    imgpaste2 = cvpaste(ar5, imgpaste, 180, 0, angle, scale)\n",
    "    imgpaste3 = cvpaste(ar6, imgpaste2, 0, 90, angle, scale)\n",
    "    imgpaste4 = cvpaste(ar7, imgpaste3, -180, 0, angle, scale)\n",
    "\n",
    "    \n",
    "    cv2.namedWindow('screen', cv2.WINDOW_NORMAL)\n",
    "    cv2.setWindowProperty('screen', cv2.WND_PROP_FULLSCREEN, cv2.WINDOW_FULLSCREEN)\n",
    "    cv2.imshow('screen',imgpaste4)\n",
    "  \n",
    "\n",
    "    new_corners, new_ids, rejectedImgPoints = aruco.detectMarkers(frame, dictionary)\n",
    "    \n",
    "    if not new_corners:\n",
    "        pass\n",
    "        \n",
    "    else:\n",
    "        rt_bord_pts=np.zeros((16,2),dtype = np.float32)#reset\n",
    "        rt_pro_pts=np.zeros((16,2),dtype = np.float32)\n",
    "        def_bord_pts2=np.zeros((16,2),dtype = np.float32)\n",
    "        def_pro_pts2=np.zeros((16,2),dtype = np.float32)\n",
    "        num=new_ids.size-1\n",
    "        \n",
    "        for i in count2:\n",
    "            for j in count2:\n",
    "                if j ==new_ids[i][0]:\n",
    "                    for h in count:\n",
    "                        rt_pts[j][h][0]=new_corners[i][0][h][0]                           \n",
    "                        rt_pts[j][h][1]=new_corners[i][0][h][1]\n",
    "            if num==i:\n",
    "                   break\n",
    "            \n",
    "\n",
    "        k=0\n",
    "        for i in count:\n",
    "            if rt_pts[i][0][0]==rt_pts[i][0][1]==0:\n",
    "                for j in count:\n",
    "                    def_bord_pts2=np.delete(def_bord_pts2,-1,0)\n",
    "                    rt_bord_pts=np.delete(rt_bord_pts,-1,0)\n",
    "                    \n",
    "            else:\n",
    "                for j in count:\n",
    "                    def_bord_pts2[4*k+j][0]=def_bord_pts[4*i+j][0]\n",
    "                    def_bord_pts2[4*k+j][1]=def_bord_pts[4*i+j][1] \n",
    "                    rt_bord_pts[4*k+j][0]=rt_pts[i][j][0]\n",
    "                    rt_bord_pts[4*k+j][1]=rt_pts[i][j][1] \n",
    "\n",
    "                k=k+1\n",
    "                        \n",
    "        k=0\n",
    "        for i in count:\n",
    "            if rt_pts[i+4][0][0]==rt_pts[i+4][0][1]==0:\n",
    "                for j in count:\n",
    "                    def_pro_pts2=np.delete(def_pro_pts2,-1,0)\n",
    "                    rt_pro_pts=np.delete(rt_pro_pts,-1,0)\n",
    "                    \n",
    "            else:\n",
    "                for j in count:\n",
    "                    def_pro_pts2[4*k+j][0]=def_pro_pts[4*i+j][0]\n",
    "                    def_pro_pts2[4*k+j][1]=def_pro_pts[4*i+j][1]\n",
    "                    rt_pro_pts[4*k+j][0]=rt_pts[i+4][j][0]\n",
    "                    rt_pro_pts[4*k+j][1]=rt_pts[i+4][j][1]\n",
    "                k=k+1\n",
    "            if  rt_pro_pts.size==0 or rt_bord_pts.size==0 : \n",
    "                pass\n",
    "            \n",
    "            elif frag>=30:#待機時間管理\n",
    "                mat1, mask1 = cv2.findHomography(rt_pro_pts, def_pro_pts2, cv2.RANSAC,1)\n",
    "                mat2, mask2 = cv2.findHomography(def_bord_pts2, rt_bord_pts, cv2.RANSAC,1)\n",
    "    #print(cap.get(cv2.CAP_PROP_FPS))\n",
    "\n",
    "\n",
    "    if cv2.waitKey(1) &0xFF == ord('q'):\n",
    "        break\n",
    "    frag=frag+1\n",
    "    t1 = time.time()                # 計測終了時間\n",
    "    elapsed_time = float(t1 - t0)   # 経過時間\n",
    "   # print(elapsed_time)             # 経過時間を表示\n",
    "    \n",
    "cv2.destroyAllWindows()"
   ]
  },
  {
   "cell_type": "code",
   "execution_count": 74,
   "metadata": {},
   "outputs": [
    {
     "data": {
      "text/plain": [
       "array([[  5.,   7.],\n",
       "       [ 34.,   7.],\n",
       "       [ 34.,  36.],\n",
       "       [  5.,  36.],\n",
       "       [365.,   7.],\n",
       "       [394.,   7.],\n",
       "       [394.,  36.],\n",
       "       [365.,  36.],\n",
       "       [  5., 187.],\n",
       "       [ 34., 187.],\n",
       "       [ 34., 216.],\n",
       "       [  5., 216.],\n",
       "       [365., 187.],\n",
       "       [394., 187.],\n",
       "       [394., 216.],\n",
       "       [365., 216.]], dtype=float32)"
      ]
     },
     "execution_count": 74,
     "metadata": {},
     "output_type": "execute_result"
    }
   ],
   "source": [
    "def_bord_pts2"
   ]
  },
  {
   "cell_type": "code",
   "execution_count": 75,
   "metadata": {},
   "outputs": [
    {
     "data": {
      "text/plain": [
       "array([[[121.,  49.],\n",
       "        [159.,  56.],\n",
       "        [154.,  93.],\n",
       "        [116.,  86.]],\n",
       "\n",
       "       [[526., 133.],\n",
       "        [554., 137.],\n",
       "        [547., 167.],\n",
       "        [520., 162.]],\n",
       "\n",
       "       [[ 90., 276.],\n",
       "        [128., 280.],\n",
       "        [123., 314.],\n",
       "        [ 85., 311.]],\n",
       "\n",
       "       [[491., 322.],\n",
       "        [518., 326.],\n",
       "        [513., 354.],\n",
       "        [486., 352.]],\n",
       "\n",
       "       [[398., 189.],\n",
       "        [423., 190.],\n",
       "        [420., 215.],\n",
       "        [395., 214.]],\n",
       "\n",
       "       [[  0.,   0.],\n",
       "        [  0.,   0.],\n",
       "        [  0.,   0.],\n",
       "        [  0.,   0.]],\n",
       "\n",
       "       [[378., 349.],\n",
       "        [403., 350.],\n",
       "        [400., 375.],\n",
       "        [375., 374.]],\n",
       "\n",
       "       [[232., 263.],\n",
       "        [257., 265.],\n",
       "        [253., 289.],\n",
       "        [229., 288.]]], dtype=float32)"
      ]
     },
     "execution_count": 75,
     "metadata": {},
     "output_type": "execute_result"
    }
   ],
   "source": [
    "rt_pts"
   ]
  },
  {
   "cell_type": "code",
   "execution_count": 76,
   "metadata": {},
   "outputs": [
    {
     "data": {
      "text/plain": [
       "array([[121.,  49.],\n",
       "       [159.,  56.],\n",
       "       [154.,  93.],\n",
       "       [116.,  86.],\n",
       "       [526., 133.],\n",
       "       [554., 137.],\n",
       "       [547., 167.],\n",
       "       [520., 162.],\n",
       "       [ 90., 276.],\n",
       "       [128., 280.],\n",
       "       [123., 314.],\n",
       "       [ 85., 311.],\n",
       "       [491., 322.],\n",
       "       [518., 326.],\n",
       "       [513., 354.],\n",
       "       [486., 352.]], dtype=float32)"
      ]
     },
     "execution_count": 76,
     "metadata": {},
     "output_type": "execute_result"
    }
   ],
   "source": [
    "rt_bord_pts"
   ]
  },
  {
   "cell_type": "code",
   "execution_count": 77,
   "metadata": {},
   "outputs": [
    {
     "data": {
      "text/plain": [
       "array([[398., 189.],\n",
       "       [423., 190.],\n",
       "       [420., 215.],\n",
       "       [395., 214.],\n",
       "       [378., 349.],\n",
       "       [403., 350.],\n",
       "       [400., 375.],\n",
       "       [375., 374.],\n",
       "       [232., 263.],\n",
       "       [257., 265.],\n",
       "       [253., 289.],\n",
       "       [229., 288.]], dtype=float32)"
      ]
     },
     "execution_count": 77,
     "metadata": {},
     "output_type": "execute_result"
    }
   ],
   "source": [
    "rt_pro_pts"
   ]
  },
  {
   "cell_type": "code",
   "execution_count": 79,
   "metadata": {},
   "outputs": [
    {
     "data": {
      "text/plain": [
       "array([[185.,   7.],\n",
       "       [214.,   7.],\n",
       "       [214.,  36.],\n",
       "       [185.,  36.],\n",
       "       [185., 187.],\n",
       "       [214., 187.],\n",
       "       [214., 216.],\n",
       "       [185., 216.],\n",
       "       [  5.,  97.],\n",
       "       [ 34.,  97.],\n",
       "       [ 34., 126.],\n",
       "       [  5., 126.]], dtype=float32)"
      ]
     },
     "execution_count": 79,
     "metadata": {},
     "output_type": "execute_result"
    }
   ],
   "source": [
    "def_pro_pts2"
   ]
  },
  {
   "cell_type": "code",
   "execution_count": 78,
   "metadata": {},
   "outputs": [
    {
     "data": {
      "text/plain": [
       "array([[185.,   7.],\n",
       "       [214.,   7.],\n",
       "       [214.,  36.],\n",
       "       [185.,  36.],\n",
       "       [365.,  97.],\n",
       "       [394.,  97.],\n",
       "       [394., 126.],\n",
       "       [365., 126.],\n",
       "       [185., 187.],\n",
       "       [214., 187.],\n",
       "       [214., 216.],\n",
       "       [185., 216.],\n",
       "       [  5.,  97.],\n",
       "       [ 34.,  97.],\n",
       "       [ 34., 126.],\n",
       "       [  5., 126.]], dtype=float32)"
      ]
     },
     "execution_count": 78,
     "metadata": {},
     "output_type": "execute_result"
    }
   ],
   "source": [
    "def_pro_pts"
   ]
  },
  {
   "cell_type": "code",
   "execution_count": 27,
   "metadata": {},
   "outputs": [
    {
     "data": {
      "text/plain": [
       "array([[ 9.60405407e-01,  1.22447867e-01, -2.31866518e+02],\n",
       "       [-8.96626699e-02,  9.65837865e-01, -1.27093332e+02],\n",
       "       [-1.65614493e-04, -2.59056563e-05,  1.00000000e+00]])"
      ]
     },
     "execution_count": 27,
     "metadata": {},
     "output_type": "execute_result"
    }
   ],
   "source": [
    "mat1\n"
   ]
  },
  {
   "cell_type": "code",
   "execution_count": 28,
   "metadata": {},
   "outputs": [
    {
     "data": {
      "text/plain": [
       "array([[ 1.39807564e+00, -1.58195591e-01,  1.24719333e+02],\n",
       "       [ 2.95225205e-01,  1.30547548e+00,  3.89414812e+01],\n",
       "       [ 4.99089657e-04,  1.56447773e-04,  1.00000000e+00]])"
      ]
     },
     "execution_count": 28,
     "metadata": {},
     "output_type": "execute_result"
    }
   ],
   "source": [
    "mat2"
   ]
  },
  {
   "cell_type": "code",
   "execution_count": 41,
   "metadata": {},
   "outputs": [],
   "source": [
    "mat2, mask2 = cv2.findHomography(def_bord_pts, def_bord_pts, cv2.RANSAC,1)"
   ]
  },
  {
   "cell_type": "code",
   "execution_count": 42,
   "metadata": {},
   "outputs": [
    {
     "data": {
      "text/plain": [
       "array([[ 1.00000000e+00, -4.27609602e-18,  2.64898514e-14],\n",
       "       [ 8.40553403e-18,  1.00000000e+00, -1.72414286e-14],\n",
       "       [-1.61729948e-19, -2.01097451e-19,  1.00000000e+00]])"
      ]
     },
     "execution_count": 42,
     "metadata": {},
     "output_type": "execute_result"
    }
   ],
   "source": [
    "mat2"
   ]
  },
  {
   "cell_type": "code",
   "execution_count": 43,
   "metadata": {},
   "outputs": [],
   "source": [
    "mat1, mask1 = cv2.findHomography(def_pro_pts, def_pro_pts, cv2.RANSAC,1)#初期設定（変更なし）"
   ]
  },
  {
   "cell_type": "code",
   "execution_count": 44,
   "metadata": {},
   "outputs": [
    {
     "data": {
      "text/plain": [
       "array([[ 1.00000000e+00,  2.35578812e-17, -2.00777132e-14],\n",
       "       [ 3.56064849e-17,  1.00000000e+00,  1.56874126e-14],\n",
       "       [ 5.37569556e-19, -1.43365630e-20,  1.00000000e+00]])"
      ]
     },
     "execution_count": 44,
     "metadata": {},
     "output_type": "execute_result"
    }
   ],
   "source": [
    "mat1"
   ]
  },
  {
   "cell_type": "code",
   "execution_count": null,
   "metadata": {},
   "outputs": [],
   "source": []
  }
 ],
 "metadata": {
  "kernelspec": {
   "display_name": "Environment (conda_opencv)",
   "language": "python",
   "name": "conda_opencv"
  },
  "language_info": {
   "codemirror_mode": {
    "name": "ipython",
    "version": 3
   },
   "file_extension": ".py",
   "mimetype": "text/x-python",
   "name": "python",
   "nbconvert_exporter": "python",
   "pygments_lexer": "ipython3",
   "version": "3.6.10"
  }
 },
 "nbformat": 4,
 "nbformat_minor": 4
}
